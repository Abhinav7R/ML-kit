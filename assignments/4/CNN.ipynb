{
 "cells": [
  {
   "cell_type": "markdown",
   "metadata": {},
   "source": [
    "## Classification using CNN"
   ]
  },
  {
   "cell_type": "code",
   "execution_count": 298,
   "metadata": {},
   "outputs": [],
   "source": [
    "import numpy as np\n",
    "import os\n",
    "import cv2\n",
    "import matplotlib.pyplot as plt\n",
    "import torch\n",
    "from torch.utils.data import Dataset, DataLoader\n",
    "from torchvision import transforms\n",
    "import torch.nn as nn\n",
    "import torch.nn.functional as F\n",
    "import torch.optim as optim\n",
    "import wandb"
   ]
  },
  {
   "cell_type": "markdown",
   "metadata": {},
   "source": [
    "#### `1. Data Loading and Preprocessing`"
   ]
  },
  {
   "cell_type": "code",
   "execution_count": 299,
   "metadata": {},
   "outputs": [
    {
     "name": "stdout",
     "output_type": "stream",
     "text": [
      "Loaded 12600 train images, 3000 validation images, 4600 test images.\n"
     ]
    }
   ],
   "source": [
    "path_to_mnist = \"../../data/external/double_mnist\"\n",
    "\n",
    "def load_mnist_data(path_to_data):\n",
    "    \"\"\"\n",
    "    Load the MNIST data into train, validation and test sets.\n",
    "    Takes in the path to the data and returns the data in the following format:\n",
    "    (train_data, train_labels), (val_data, val_labels), (test_data, test_labels)\n",
    "    where train_data, val_data and test_data are numpy arrays of images \n",
    "    and train_labels, val_labels and test_labels are numpy arrays of labels.\n",
    "    \"\"\"\n",
    "    def load_images_from_folder(folder_path, label_function):\n",
    "        data = []\n",
    "        labels = []\n",
    "        for subfolder in os.listdir(folder_path):\n",
    "            subfolder_path = os.path.join(folder_path, subfolder)\n",
    "            if os.path.isdir(subfolder_path):\n",
    "\n",
    "                label = label_function(subfolder)\n",
    "                \n",
    "                for img_name in os.listdir(subfolder_path):\n",
    "                    img_path = os.path.join(subfolder_path, img_name)\n",
    "                    if img_path.endswith('.png') or img_path.endswith('.jpg'):\n",
    "                        img = cv2.imread(img_path, cv2.IMREAD_GRAYSCALE)\n",
    "                        if img is not None:\n",
    "                            data.append(img)\n",
    "                            labels.append(label)\n",
    "        return np.array(data), np.array(labels)\n",
    "\n",
    "    def count_digits_in_name(folder_name):\n",
    "        if folder_name == '0':\n",
    "            return 0\n",
    "        return sum(c.isdigit() for c in folder_name)\n",
    "    \n",
    "    train_path = os.path.join(path_to_data, 'train')\n",
    "    val_path = os.path.join(path_to_data, 'val')\n",
    "    test_path = os.path.join(path_to_data, 'test')\n",
    "    \n",
    "    train_data, train_labels = load_images_from_folder(train_path, count_digits_in_name)\n",
    "    val_data, val_labels = load_images_from_folder(val_path, count_digits_in_name)\n",
    "    test_data, test_labels = load_images_from_folder(test_path, count_digits_in_name)\n",
    "    \n",
    "    return (train_data, train_labels), (val_data, val_labels), (test_data, test_labels)\n",
    "\n",
    "path_to_mnist = \"../../data/external/double_mnist\"\n",
    "train_set, val_set, test_set = load_mnist_data(path_to_data=path_to_mnist)\n",
    "print(f\"Loaded {len(train_set[0])} train images, {len(val_set[0])} validation images, {len(test_set[0])} test images.\")\n"
   ]
  },
  {
   "cell_type": "code",
   "execution_count": 300,
   "metadata": {},
   "outputs": [
    {
     "data": {
      "image/png": "[encoded data removed]",
      "text/plain": [
       "<Figure size 1000x1000 with 10 Axes>"
      ]
     },
     "metadata": {},
     "output_type": "display_data"
    }
   ],
   "source": [
    "# checking if the data is loaded correctly by displaying some images\n",
    "\n",
    "def display_images(images, labels, n_images):\n",
    "    plt.figure(figsize=(10, 10))\n",
    "    for i in range(n_images):\n",
    "        ax = plt.subplot(5, 5, i + 1)\n",
    "        plt.imshow(images[i], cmap='gray')\n",
    "        plt.title(f'{labels[i]}')\n",
    "        plt.axis(\"off\")\n",
    "    plt.show()\n",
    "\n",
    "# display_images(train_set[0], train_set[1], 10)\n",
    "display_images(val_set[0], val_set[1], 10)\n",
    "# display_images(test_set[0], test_set[1], 10)\n"
   ]
  },
  {
   "cell_type": "code",
   "execution_count": 301,
   "metadata": {},
   "outputs": [],
   "source": [
    "\"\"\"\n",
    "MultiMNISTDataset class - inherited from torch.utils.data.Dataset \n",
    "and __len__ and __getitem__ functions are overridden.\n",
    "\"\"\"\n",
    "\n",
    "class MultiMNISTDataset(Dataset):\n",
    "    def __init__(self, images, labels, transform=None):\n",
    "        self.images = images\n",
    "        self.labels = labels\n",
    "        self.transform = transform\n",
    "\n",
    "    def __len__(self):\n",
    "        return len(self.images)\n",
    "\n",
    "    def __getitem__(self, idx):\n",
    "        image = self.images[idx]\n",
    "        label = self.labels[idx]\n",
    "\n",
    "        if self.transform:\n",
    "            image = self.transform(image)\n",
    "\n",
    "        return image, label"
   ]
  },
  {
   "cell_type": "code",
   "execution_count": 334,
   "metadata": {},
   "outputs": [],
   "source": [
    "# np array -> pil image -> resize -> tensor\n",
    "\n",
    "def load_data(task, shuffle=True):\n",
    "    transform = transforms.Compose([\n",
    "        transforms.ToPILImage(),\n",
    "        transforms.Resize((64, 64)),\n",
    "        transforms.ToTensor()\n",
    "    ])\n",
    "\n",
    "    train_dataset = MultiMNISTDataset(train_set[0], train_set[1], transform=transform)\n",
    "    val_dataset = MultiMNISTDataset(val_set[0], val_set[1], transform=transform)\n",
    "    test_dataset = MultiMNISTDataset(test_set[0], test_set[1], transform=transform)\n",
    "\n",
    "    if task == 'classification':\n",
    "        # labels are tensors -> long\n",
    "        train_dataset.labels = torch.tensor(train_dataset.labels).long()\n",
    "        val_dataset.labels = torch.tensor(val_dataset.labels).long()\n",
    "        test_dataset.labels = torch.tensor(test_dataset.labels).long()\n",
    "\n",
    "    else:\n",
    "        # labels are tensors -> float\n",
    "        train_dataset.labels = torch.tensor(train_dataset.labels).float()\n",
    "        val_dataset.labels = torch.tensor(val_dataset.labels).float()\n",
    "        test_dataset.labels = torch.tensor(test_dataset.labels).float()\n",
    "\n",
    "    batch_size = 32\n",
    "\n",
    "    train_loader = DataLoader(train_dataset, batch_size=batch_size, shuffle=shuffle)\n",
    "    val_loader = DataLoader(val_dataset, batch_size=batch_size, shuffle=shuffle)\n",
    "    test_loader = DataLoader(test_dataset, batch_size=batch_size, shuffle=shuffle)\n",
    "\n",
    "    return train_loader, val_loader, test_loader"
   ]
  },
  {
   "cell_type": "markdown",
   "metadata": {},
   "source": [
    "Note:\n",
    "The images have been converted to gray scale and resized to 64x64 from the original 128x128. This is done to reduce the training time."
   ]
  },
  {
   "cell_type": "markdown",
   "metadata": {},
   "source": [
    "#### `2. Implement the CNN Class`"
   ]
  },
  {
   "cell_type": "code",
   "execution_count": 303,
   "metadata": {},
   "outputs": [],
   "source": [
    "class CNN(nn.Module):\n",
    "    \"\"\"\n",
    "    CNN class - inherited from torch.nn.Module\n",
    "    Hnadles regression and classification tasks.\n",
    "    Contains convolutional layers and fully connected layers.\n",
    "    Also contains forward function to define the forward pass.\n",
    "    \"\"\"\n",
    "    def __init__(self, task='classification', dropout_prob=0.5):\n",
    "        super(CNN, self).__init__()\n",
    "\n",
    "        if task != 'classification' and task != 'regression':\n",
    "            raise ValueError(\"Task must be either 'classification' or 'regression'\")\n",
    "\n",
    "        self.task = task\n",
    "        self.dropout_prob = dropout_prob\n",
    "\n",
    "        # architecture 1\n",
    "        # Convolutional layers\n",
    "        self.conv1 = nn.Conv2d(in_channels=1, out_channels=16, kernel_size=3, stride=1, padding=1)  # 64x64 -> 32x32 after pooling\n",
    "        self.conv2 = nn.Conv2d(in_channels=16, out_channels=32, kernel_size=3, stride=1, padding=1) # 32x32 -> 16x16 after pooling\n",
    "        self.conv3 = nn.Conv2d(in_channels=32, out_channels=64, kernel_size=3, stride=1, padding=1) # 16x16 -> 8x8 after pooling\n",
    "\n",
    "        # Fully connected layer\n",
    "        self.fc1 = nn.Linear(in_features=64 * 8 * 8, out_features=128)\n",
    "        self.fc1_drop = nn.Dropout(p=dropout_prob)\n",
    "        self.fc2 = nn.Linear(in_features=128, out_features=1 if task == 'regression' else 4)\n",
    "        # 1 output for regression, 4 for classification (0, 1, 2, 3)\n",
    "\n",
    "        #----------------------------------------------#\n",
    "\n",
    "        # # architecture 2\n",
    "        # # Convolutional layers\n",
    "        # self.conv1 = nn.Conv2d(in_channels=1, out_channels=16, kernel_size=3, stride=1, padding=1) # 64x64 -> 32x32 after pooling\n",
    "        # self.conv2 = nn.Conv2d(in_channels=16, out_channels=32, kernel_size=3, stride=1, padding=1) # 32x32 -> 16x16 after pooling\n",
    "        # # Fully connected layer\n",
    "        # self.fc1 = nn.Linear(in_features=32 * 16 * 16, out_features=64)\n",
    "        # self.fc1_drop = nn.Dropout(p=dropout_prob)\n",
    "        # self.fc2 = nn.Linear(in_features=64, out_features=1 if task == 'regression' else 4)\n",
    "\n",
    "        #----------------------------------------------#\n",
    "\n",
    "\n",
    "    def forward(self, x):\n",
    "\n",
    "        feature_maps = []\n",
    "\n",
    "        # conv1 -> relu -> maxpool\n",
    "        x = F.relu(self.conv1(x))\n",
    "        x = F.max_pool2d(x, kernel_size=2, stride=2)\n",
    "        feature_maps.append(x)\n",
    "\n",
    "        # conv2 -> relu -> maxpool\n",
    "        x = F.relu(self.conv2(x))\n",
    "        x = F.max_pool2d(x, kernel_size=2, stride=2)\n",
    "        feature_maps.append(x)\n",
    "        \n",
    "        # comment out the following lines for architecture 2\n",
    "        # conv3 -> relu -> maxpool\n",
    "        x = F.relu(self.conv3(x))\n",
    "        x = F.max_pool2d(x, kernel_size=2, stride=2)\n",
    "        feature_maps.append(x)\n",
    "\n",
    "        # flatten for fully connected layers\n",
    "        x = x.view(x.size(0), -1)\n",
    "\n",
    "        # fc1 -> relu -> fc2\n",
    "        x = F.relu(self.fc1(x))\n",
    "        x = self.fc1_drop(x)\n",
    "        x = self.fc2(x)\n",
    "\n",
    "        return x, feature_maps\n",
    "\n",
    "        "
   ]
  },
  {
   "cell_type": "markdown",
   "metadata": {},
   "source": [
    "Note:\n",
    "For Cross Entropy Loss, we use `torch.nn.CrossEntropyLoss()` which has 2 types of formats for target labels:\n",
    "1. integer based target labels\n",
    "2. probability based target labels (one-hot encoded)\n",
    "\n",
    "Here we are using integer based target labels, so the expected output from the model should be integer based labels. So, we are using `torch.max()` to get the index of the maximum value in the output tensor. Here long() is used to convert the index to integer type.\n",
    "\n",
    "In case of probability based target labels, we need to have a softmax layer at the end of the model to convert the output to probability based labels. In this case, float() is used to convert the index to float type."
   ]
  },
  {
   "cell_type": "code",
   "execution_count": 304,
   "metadata": {},
   "outputs": [],
   "source": [
    "def train(model, train_loader, val_loader, optimizer, num_epochs, \n",
    "          device, task='classification', wandb_flag=False, epoch_logging=True):\n",
    "    \n",
    "    if task == 'classification':\n",
    "        criterion = nn.CrossEntropyLoss()\n",
    "    else:\n",
    "        criterion = nn.MSELoss()\n",
    "\n",
    "    old_val_loss = float('inf')\n",
    "    for epoch in range(num_epochs):\n",
    "        model.train()\n",
    "        train_loss = 0.0\n",
    "        val_loss = 0.0\n",
    "\n",
    "        for inputs, labels in train_loader:\n",
    "            inputs = inputs.to(device)\n",
    "            labels = labels.to(device)\n",
    "\n",
    "            # intialize the gradients to zero\n",
    "            optimizer.zero_grad()\n",
    "\n",
    "            # forward pass\n",
    "            outputs, _ = model(inputs)\n",
    "            \n",
    "            if task == 'regression':\n",
    "                outputs = outputs.view(-1)\n",
    "\n",
    "            # calculate the loss\n",
    "            loss = criterion(outputs, labels)\n",
    "\n",
    "            # backward pass\n",
    "            loss.backward()\n",
    "\n",
    "            # update the weights\n",
    "            optimizer.step()\n",
    "\n",
    "            train_loss += loss.item()            \n",
    "\n",
    "        # validation loss\n",
    "        model.eval()\n",
    "        with torch.no_grad():\n",
    "            for inputs, labels in val_loader:\n",
    "                inputs = inputs.to(device)\n",
    "                labels = labels.to(device)\n",
    "\n",
    "                # forward pass\n",
    "                outputs, _ = model(inputs)\n",
    "\n",
    "                if task == 'regression':\n",
    "                    outputs = outputs.view(-1)\n",
    "\n",
    "                # val loss\n",
    "                loss = criterion(outputs, labels)\n",
    "\n",
    "                old_val_loss = val_loss\n",
    "                val_loss += loss.item()\n",
    "\n",
    "        if epoch_logging:\n",
    "            print(f\"Epoch {epoch + 1}/{num_epochs}, Train Loss: {train_loss / len(train_loader)}, Val Loss: {val_loss / len(val_loader)}\")\n",
    "\n",
    "        if wandb_flag:\n",
    "            wandb.log({\"train_loss\": train_loss / len(train_loader), \"val_loss\": val_loss / len(val_loader)})\n",
    "\n",
    "        if np.abs(val_loss - old_val_loss) < 1e-5:\n",
    "            if epoch_logging:\n",
    "                print(\"No improvement in validation loss. Stopping training.\")\n",
    "            break\n",
    "        "
   ]
  },
  {
   "cell_type": "code",
   "execution_count": 305,
   "metadata": {},
   "outputs": [],
   "source": [
    "def train_driver(\n",
    "        task, \n",
    "        num_epochs=10, \n",
    "        optimizer_type='adam', \n",
    "        device=None, lr=0.001, \n",
    "        dropout_prob=0.5, \n",
    "        wandb_flag=False, \n",
    "        epoch_logging=True):\n",
    "    \n",
    "    if task == 'classification':\n",
    "        model = CNN(task='classification', dropout_prob=dropout_prob).to(device)\n",
    "        if optimizer_type == 'adam':\n",
    "            optimizer = optim.Adam(model.parameters(), lr=lr)\n",
    "        elif optimizer_type == 'sgd':\n",
    "            optimizer = optim.SGD(model.parameters(), lr=lr)\n",
    "        train_loader, val_loader, test_loader = load_data(task='classification')\n",
    "        train(model, train_loader, val_loader, optimizer, num_epochs=num_epochs, \n",
    "              device=device, task='classification', wandb_flag=wandb_flag, epoch_logging=epoch_logging)\n",
    "        return model, val_loader, test_loader\n",
    "    else:\n",
    "        model = CNN(task='regression', dropout_prob=dropout_prob).to(device)\n",
    "        if optimizer_type == 'adam':\n",
    "            optimizer = optim.Adam(model.parameters(), lr=lr)\n",
    "        elif optimizer_type == 'sgd':\n",
    "            optimizer = optim.SGD(model.parameters(), lr=lr)\n",
    "        train_loader, val_loader, test_loader = load_data(task='regression')\n",
    "        train(model, train_loader, val_loader, optimizer, num_epochs=num_epochs, \n",
    "              device=device, task='regression', wandb_flag=wandb_flag, epoch_logging=epoch_logging)\n",
    "        return model, val_loader, test_loader\n",
    "    "
   ]
  },
  {
   "cell_type": "code",
   "execution_count": 306,
   "metadata": {},
   "outputs": [],
   "source": [
    "# testing the model\n",
    "# accuracy is calculated as #correct predictions / #total predictions\n",
    "\n",
    "def test_model(model, test_loader, device, task='classification', logging=True):\n",
    "    model.eval()\n",
    "    correct = 0\n",
    "    total = 0\n",
    "    with torch.no_grad():\n",
    "        for inputs, labels in test_loader:\n",
    "            inputs = inputs.to(device)\n",
    "            labels = labels.to(device)\n",
    "\n",
    "            outputs, _ = model(inputs)\n",
    "\n",
    "            if task == 'regression':\n",
    "                outputs = outputs.view(-1)\n",
    "                \n",
    "                # if regression, we need to round the output to the nearest integer\n",
    "                outputs = torch.round(outputs)\n",
    "\n",
    "                total += labels.size(0)\n",
    "                correct += (outputs == labels).sum().item()\n",
    "\n",
    "            else:\n",
    "                _, predicted = torch.max(outputs, dim=1)\n",
    "                total += labels.size(0)\n",
    "                correct += (predicted == labels).sum().item()\n",
    "\n",
    "    accuracy = correct / total\n",
    "    print(f\"Accuracy: {accuracy}\")\n",
    "    return accuracy\n"
   ]
  },
  {
   "cell_type": "code",
   "execution_count": 307,
   "metadata": {},
   "outputs": [],
   "source": [
    "# display some predictions - visualizing the model's output\n",
    "\n",
    "def display_predictions(model, test_loader, device, n_images=5, task='classification'):\n",
    "    model.eval()\n",
    "    with torch.no_grad():\n",
    "        for inputs, labels in test_loader:\n",
    "            inputs = inputs.to(device)\n",
    "            labels = labels.to(device)\n",
    "\n",
    "            outputs, _ = model(inputs)\n",
    "\n",
    "            if task == 'regression':\n",
    "                outputs = outputs.view(-1)\n",
    "                predicted = torch.round(outputs)\n",
    "            else:\n",
    "                _, predicted = torch.max(outputs, dim=1)\n",
    "\n",
    "            plt.figure(figsize=(15, 5))\n",
    "            for i in range(n_images):\n",
    "                ax = plt.subplot(1, n_images, i + 1)\n",
    "                plt.imshow(inputs[i].cpu().numpy().squeeze(), cmap='gray')\n",
    "                plt.title(f\"Actual: {labels[i]}, Predicted: {predicted[i]}\")\n",
    "                plt.axis(\"off\")\n",
    "            plt.show()\n",
    "            break\n"
   ]
  },
  {
   "cell_type": "code",
   "execution_count": 370,
   "metadata": {},
   "outputs": [
    {
     "name": "stdout",
     "output_type": "stream",
     "text": [
      "Epoch 1/10, Train Loss: 0.16370293737975952, Val Loss: 0.0038154876251900666\n",
      "Epoch 2/10, Train Loss: 0.007448388585685118, Val Loss: 0.0007311958165410806\n",
      "Epoch 3/10, Train Loss: 0.003568769475970936, Val Loss: 0.0009910585058493775\n",
      "Epoch 4/10, Train Loss: 0.007374575160402945, Val Loss: 0.00023006981112174836\n",
      "No improvement in validation loss. Stopping training.\n",
      "Classification model training complete.\n",
      "\n",
      "Evaluating the model on the validation set.\n",
      "Accuracy: 1.0\n",
      "\n",
      "Evaluating the model on the test set.\n",
      "Accuracy: 1.0\n"
     ]
    },
    {
     "data": {
      "image/png": "[encoded data removed]",
      "text/plain": [
       "<Figure size 1500x500 with 5 Axes>"
      ]
     },
     "metadata": {},
     "output_type": "display_data"
    }
   ],
   "source": [
    "device = 'cuda' if torch.cuda.is_available() else 'cpu'\n",
    "model_classification, val_loader, test_loader = train_driver(task='classification', num_epochs=10, optimizer_type='adam',\n",
    "                                                              lr=0.001, device=device, dropout_prob=0.3)\n",
    "\n",
    "print(\"Classification model training complete.\")\n",
    "\n",
    "print(\"\\nEvaluating the model on the validation set.\")\n",
    "test_model(model_classification, val_loader, device, task='classification')\n",
    "\n",
    "print(\"\\nEvaluating the model on the test set.\")\n",
    "test_model(model_classification, test_loader, device, task='classification')\n",
    "\n",
    "display_predictions(model_classification, test_loader, device, n_images=5, task='classification')"
   ]
  },
  {
   "cell_type": "code",
   "execution_count": 309,
   "metadata": {},
   "outputs": [
    {
     "name": "stdout",
     "output_type": "stream",
     "text": [
      "Epoch 1/10, Train Loss: 0.18851087807776964, Val Loss: 0.016326389359706577\n",
      "Epoch 2/10, Train Loss: 0.0630911892175977, Val Loss: 0.07009500915065725\n",
      "Epoch 3/10, Train Loss: 0.06001334238400314, Val Loss: 0.01917777257040143\n",
      "Epoch 4/10, Train Loss: 0.05244260985252972, Val Loss: 0.006555424339355941\n",
      "Epoch 5/10, Train Loss: 0.048989530071275794, Val Loss: 0.01627224283491043\n",
      "Epoch 6/10, Train Loss: 0.04473854518178756, Val Loss: 0.01299322190436911\n",
      "Epoch 7/10, Train Loss: 0.04206843183702094, Val Loss: 0.008360115357952074\n",
      "Epoch 8/10, Train Loss: 0.036466229456443774, Val Loss: 0.019198712486615206\n",
      "Epoch 9/10, Train Loss: 0.03596861917657901, Val Loss: 0.005346773269071066\n",
      "Epoch 10/10, Train Loss: 0.035312712001070605, Val Loss: 0.008843967208064142\n",
      "Regression model training complete.\n",
      "\n",
      "Evaluating the model on the validation set.\n",
      "Accuracy: 1.0\n",
      "\n",
      "Evaluating the model on the test set.\n",
      "Accuracy: 1.0\n"
     ]
    },
    {
     "data": {
      "image/png": "[encoded data removed]",
      "text/plain": [
       "<Figure size 1500x500 with 5 Axes>"
      ]
     },
     "metadata": {},
     "output_type": "display_data"
    }
   ],
   "source": [
    "device = 'cuda' if torch.cuda.is_available() else 'cpu'\n",
    "model_regression, val_loader, test_loader = train_driver(task='regression', num_epochs=10, optimizer_type='adam',\n",
    "                                                          lr=0.001, device=device, dropout_prob=0.3)\n",
    "\n",
    "print(\"Regression model training complete.\")\n",
    "\n",
    "print(\"\\nEvaluating the model on the validation set.\")\n",
    "test_model(model_regression, val_loader, device, task='regression')\n",
    "\n",
    "print(\"\\nEvaluating the model on the test set.\")\n",
    "test_model(model_regression, test_loader, device, task='regression')\n",
    "\n",
    "display_predictions(model_regression, test_loader, device, n_images=5, task='regression')"
   ]
  },
  {
   "cell_type": "markdown",
   "metadata": {},
   "source": [
    "#### `3. Hyperparameter Tuning`"
   ]
  },
  {
   "cell_type": "markdown",
   "metadata": {},
   "source": [
    "Hyperparameter tuning for the CNN model\n",
    "1. learning rate\n",
    "2. optimizer\n",
    "3. dropout rate\n",
    "4. convolutional layers\n",
    "\n",
    "The names of the runs start with 1 or 2\n",
    "- 1 for the CNN architecture 1:\n",
    "3 convolutional layers with 32, 64, 128 filters respectively, each followed by a max pooling layer, and a fully connected layer with 128 neurons. The activation function is ReLU.\n",
    "\n",
    "- 2 for the CNN architecture 2:\n",
    "4 convolutional layers with 32, 64, 128, 256 filters respectively, each followed by a max pooling layer, and a fully connected layer with 128 neurons. The activation function is ReLU.\n",
    "\n",
    "The CNN class is changed to incorporate the 2 architectures. The plots for train_loss, train_accuracy, val_loss, val_accuracy are plotted for each run (refer to wandb link below)"
   ]
  },
  {
   "cell_type": "code",
   "execution_count": 310,
   "metadata": {},
   "outputs": [],
   "source": [
    "def sweep_train():\n",
    "    with wandb.init() as run:\n",
    "        config = run.config\n",
    "        wandb.run.name = f\"2_{config.task}_{config.optimizer_type}_{config.lr}_{config.dropout_prob}\"\n",
    "        model, val_loader, test_loader = train_driver(\n",
    "            task=config.task, \n",
    "            num_epochs=10, \n",
    "            optimizer_type=config.optimizer_type,\n",
    "            lr=config.lr, \n",
    "            device=device, \n",
    "            dropout_prob=config.dropout_prob, \n",
    "            wandb_flag=True,\n",
    "            epoch_logging=False\n",
    "        )\n",
    "        \n",
    "        val_acc = test_model(model, val_loader, device, task=config.task, logging=False)\n",
    "        test_acc = test_model(model, test_loader, device, task=config.task, logging=False)\n",
    "\n",
    "        wandb.log({\"val_acc\": val_acc, \"test_acc\": test_acc})\n",
    "\n",
    "\n",
    "def hyperparameter_tuning():\n",
    "    sweep_config = {\n",
    "        'method': 'grid',\n",
    "        'metric': {\n",
    "            'name': 'val_loss',\n",
    "            'goal': 'minimize'\n",
    "        },\n",
    "        'parameters': {\n",
    "            'task': {\n",
    "                'values': ['classification', 'regression']\n",
    "            },\n",
    "            'optimizer_type': {\n",
    "                'values': ['adam', 'sgd']\n",
    "            },\n",
    "            'lr': {\n",
    "                'values': [0.001, 0.01]\n",
    "            },\n",
    "            'dropout_prob': {\n",
    "                'values': [0.3, 0.5]\n",
    "            }\n",
    "        }\n",
    "    }\n",
    "\n",
    "    sweep_id = wandb.sweep(sweep_config, project='SMAI_ASG_4_CNN')\n",
    "    wandb.agent(sweep_id, function=sweep_train)"
   ]
  },
  {
   "cell_type": "code",
   "execution_count": 311,
   "metadata": {},
   "outputs": [],
   "source": [
    "# hyperparameter_tuning()"
   ]
  },
  {
   "cell_type": "markdown",
   "metadata": {},
   "source": [
    "[WandB Link](https://wandb.ai/abhinav7/SMAI_ASG_4_CNN)\n",
    "\n",
    "<div style=\"display: flex; justify-content: space-between;\">\n",
    "\n",
    "<div style=\"width: 45%;\">\n",
    "\n",
    "### Classification\n",
    "**Best Model**:  \n",
    "  - CNN Architecture 1  \n",
    "  - Learning Rate: 0.001  \n",
    "  - Optimizer: Adam  \n",
    "  - Dropout Rate: 0.3  \n",
    "  - Validation Accuracy: 1  \n",
    "  - Test Accuracy: 1  \n",
    "  - Validation Loss: 0.00007  \n",
    "  - Train Loss: 0.0016  \n",
    "\n",
    "</div>\n",
    "\n",
    "<div style=\"width: 45%;\">\n",
    "\n",
    "### Regression\n",
    "**Best Model**:  \n",
    "  - CNN Architecture 1  \n",
    "  - Learning Rate: 0.001  \n",
    "  - Optimizer: Adam  \n",
    "  - Dropout Rate: 0.3  \n",
    "  - Validation Accuracy: 1  \n",
    "  - Test Accuracy: 1  \n",
    "  - Validation Loss: 0.0005  \n",
    "  - Train Loss: 0.004  \n",
    "\n",
    "</div>\n",
    "\n",
    "</div>\n"
   ]
  },
  {
   "cell_type": "markdown",
   "metadata": {},
   "source": [
    "#### `4. Feature map Visualization`"
   ]
  },
  {
   "cell_type": "code",
   "execution_count": 368,
   "metadata": {},
   "outputs": [],
   "source": [
    "def visualize_feature_maps(feature_num=0):\n",
    "    train_loader, val_loader, test_loader = load_data(task='classification', shuffle=False)\n",
    "\n",
    "    model_classification.eval()\n",
    "\n",
    "    with torch.no_grad():\n",
    "        \n",
    "        # iterate through the first batch\n",
    "        inputs, labels = next(iter(train_loader))\n",
    "        \n",
    "        inputs = inputs.to(device)\n",
    "        labels = labels.to(device)\n",
    "\n",
    "        outputs, feature_maps = model_classification(inputs)\n",
    "\n",
    "        _, predicted = torch.max(outputs, dim=1)\n",
    "\n",
    "        indices = [0, 12, 21]\n",
    "\n",
    "        for i in indices:\n",
    "\n",
    "            plt.figure(figsize=(25, 10))\n",
    "            plt.subplot(1, len(feature_maps) + 1, 1)\n",
    "            # original image\n",
    "            # .cpu() -> move tensor to cpu for numpy conversion\n",
    "            # .squeeze() -> remove the channel dimension\n",
    "            plt.imshow(inputs[i].cpu().squeeze(), cmap='gray')\n",
    "            plt.title(f\"True: {labels[i].item()}, Pred: {predicted[i].item()}\")\n",
    "            plt.axis('off')\n",
    "\n",
    "            # 3 feature maps - one per convolutional layer\n",
    "            for layer_index, fmap in enumerate(feature_maps):\n",
    "                # .cpu() -> move tensor to cpu for numpy conversion\n",
    "                # .detach() -> detach the tensor from the computation graph\n",
    "                fmap = fmap[i].cpu().detach()\n",
    "                # print(f\"Layer {layer_index + 1} shape: {fmap.shape}\")\n",
    "                num_filters = fmap.shape[0]\n",
    "\n",
    "                plt.subplot(1, len(feature_maps) + 1, layer_index + 2)\n",
    "                # fmap[0] first filter of each feature map displayed for simplicity\n",
    "                # a colormap is used to visualize better\n",
    "                plt.imshow(fmap[feature_num], cmap='inferno')\n",
    "                plt.title(f'Layer {layer_index + 1}')\n",
    "                plt.axis('off')\n",
    "\n",
    "            plt.show()\n",
    "\n"
   ]
  },
  {
   "cell_type": "code",
   "execution_count": 369,
   "metadata": {},
   "outputs": [
    {
     "data": {
      "image/png": "[encoded data removed]",
      "text/plain": [
       "<Figure size 2500x1000 with 4 Axes>"
      ]
     },
     "metadata": {},
     "output_type": "display_data"
    },
    {
     "data": {
      "image/png": "[encoded data removed]",
      "text/plain": [
       "<Figure size 2500x1000 with 4 Axes>"
      ]
     },
     "metadata": {},
     "output_type": "display_data"
    },
    {
     "data": {
      "image/png": "[encoded data removed]",
      "text/plain": [
       "<Figure size 2500x1000 with 4 Axes>"
      ]
     },
     "metadata": {},
     "output_type": "display_data"
    }
   ],
   "source": [
    "visualize_feature_maps(feature_num=0)"
   ]
  },
  {
   "cell_type": "code",
   "execution_count": 364,
   "metadata": {},
   "outputs": [
    {
     "data": {
      "image/png": "[encoded data removed]",
      "text/plain": [
       "<Figure size 2500x1000 with 4 Axes>"
      ]
     },
     "metadata": {},
     "output_type": "display_data"
    },
    {
     "data": {
      "image/png": "[encoded data removed]",
      "text/plain": [
       "<Figure size 2500x1000 with 4 Axes>"
      ]
     },
     "metadata": {},
     "output_type": "display_data"
    },
    {
     "data": {
      "image/png": "[encoded data removed]",
      "text/plain": [
       "<Figure size 2500x1000 with 4 Axes>"
      ]
     },
     "metadata": {},
     "output_type": "display_data"
    }
   ],
   "source": [
    "visualize_feature_maps(feature_num=6)"
   ]
  },
  {
   "cell_type": "markdown",
   "metadata": {},
   "source": [
    "Note: Inputs are scaled images of size 64x64 (hence they appear blurry)\n",
    "\n",
    "The next 3 images are the feature maps of the 3 convolutional layers of the CNN architecture 1. \n",
    "\n",
    "The first image shows the feature maps corresponding to the zeroth filter, the second image shows the feature maps corresponding to the 6th filter.\n",
    "\n",
    "At the 1st layer, the number of filters is less (16) and the feature maps are not very detailed. They extract broader features from the image like shape, texture, edges. Notice we can still see the edges of the digits in the feature maps of the 1st layer. For eg: the digits digits like 0, 6, 8 and 9 have circular edges whereas the digits 1 and 7 have straight edges and the feature maps of the 1st layer try to capture these edges.\n",
    "\n",
    "As we go deeper in the network, the number of filters increases and the feature maps become more detailed. They extract more specific features from the image. \n",
    "\n",
    "For eg: at the 3rd layer, the number of filters increases to 64 and the feature maps are detailed. They extract more specific features from the image. Its not clear from the above images, because it just shows one of the feature maps from each layer. The aggregate of all the feature maps from the 3rd layer will together hold all the information of each digit."
   ]
  }
 ],
 "metadata": {
  "kernelspec": {
   "display_name": "smai_env",
   "language": "python",
   "name": "python3"
  },
  "language_info": {
   "codemirror_mode": {
    "name": "ipython",
    "version": 3
   },
   "file_extension": ".py",
   "mimetype": "text/x-python",
   "name": "python",
   "nbconvert_exporter": "python",
   "pygments_lexer": "ipython3",
   "version": "3.12.4"
  }
 },
 "nbformat": 4,
 "nbformat_minor": 2
}
