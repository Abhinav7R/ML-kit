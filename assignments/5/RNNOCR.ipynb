{
 "cells": [
  {
   "cell_type": "markdown",
   "metadata": {},
   "source": [
    "# RNN - OCR"
   ]
  },
  {
   "cell_type": "code",
   "execution_count": 31,
   "metadata": {},
   "outputs": [],
   "source": [
    "import numpy as np\n",
    "import matplotlib.pyplot as plt\n",
    "from nltk.corpus import words\n",
    "import random\n",
    "import os\n",
    "import sys\n",
    "import cv2\n"
   ]
  },
  {
   "cell_type": "code",
   "execution_count": 34,
   "metadata": {},
   "outputs": [
    {
     "name": "stdout",
     "output_type": "stream",
     "text": [
      "Number of words in nltk corpus:  236736\n",
      "['skilly', 'Amboina', 'softtack', 'amomal', 'soakage', 'parageusia', 'woddie', 'Welshlike', 'shoval', 'aftertrial']\n"
     ]
    }
   ],
   "source": [
    "# nltk.download('words')\n",
    "word_list = words.words()\n",
    "print(\"Number of words in nltk corpus: \", len(word_list))\n",
    "words_10 = [word for word in word_list if len(word) < 11]\n",
    "selected_words = random.sample(words_10, 100000)\n",
    "print(selected_words[:10])"
   ]
  },
  {
   "cell_type": "code",
   "execution_count": null,
   "metadata": {},
   "outputs": [
    {
     "name": "stdout",
     "output_type": "stream",
     "text": [
      "Saved 0 images\n",
      "Done\n"
     ]
    }
   ],
   "source": [
    "output_dir = \"../../data/external/words\"\n",
    "os.makedirs(output_dir, exist_ok=True)\n",
    "\n",
    "font_scale = 1\n",
    "font_thickness = 2\n",
    "font = cv2.FONT_HERSHEY_SIMPLEX\n",
    "\n",
    "for i, word in enumerate(selected_words):\n",
    "    img = np.ones((64, 256, 3), dtype=np.uint8) * 255\n",
    "    text_size = cv2.getTextSize(word, font, font_scale, font_thickness)[0]\n",
    "    text_width, text_height = text_size\n",
    "    x = (img.shape[1] - text_width) // 2\n",
    "    y = (img.shape[0] + text_height) // 2\n",
    "    cv2.putText(img, word, (x, y), font, font_scale, (0, 0, 0), font_thickness, lineType=cv2.LINE_AA)\n",
    "    cv2.imwrite(os.path.join(output_dir, f\"{i}.png\"), img)\n",
    "    if i % 1000 == 0:\n",
    "        print(f\"Saved {i} images\")\n",
    "print(\"Done\")\n"
   ]
  }
 ],
 "metadata": {
  "kernelspec": {
   "display_name": "smai_env",
   "language": "python",
   "name": "python3"
  },
  "language_info": {
   "codemirror_mode": {
    "name": "ipython",
    "version": 3
   },
   "file_extension": ".py",
   "mimetype": "text/x-python",
   "name": "python",
   "nbconvert_exporter": "python",
   "pygments_lexer": "ipython3",
   "version": "3.12.4"
  }
 },
 "nbformat": 4,
 "nbformat_minor": 2
}
